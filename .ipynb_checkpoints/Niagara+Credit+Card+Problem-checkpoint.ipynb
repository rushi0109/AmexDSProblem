{
 "cells": [
  {
   "cell_type": "markdown",
   "metadata": {},
   "source": [
    "# Niagara Credit Service Problem"
   ]
  },
  {
   "cell_type": "markdown",
   "metadata": {
    "collapsed": true
   },
   "source": [
    "## Data Analysis"
   ]
  },
  {
   "cell_type": "code",
   "execution_count": 29,
   "metadata": {
    "collapsed": true
   },
   "outputs": [],
   "source": [
    "# Basic imports\n",
    "import numpy as np\n",
    "import pandas as pd\n",
    "import seaborn as sns\n",
    "import matplotlib.pyplot as plt"
   ]
  },
  {
   "cell_type": "code",
   "execution_count": 5,
   "metadata": {},
   "outputs": [
    {
     "data": {
      "text/html": [
       "<div>\n",
       "<style>\n",
       "    .dataframe thead tr:only-child th {\n",
       "        text-align: right;\n",
       "    }\n",
       "\n",
       "    .dataframe thead th {\n",
       "        text-align: left;\n",
       "    }\n",
       "\n",
       "    .dataframe tbody tr th {\n",
       "        vertical-align: top;\n",
       "    }\n",
       "</style>\n",
       "<table border=\"1\" class=\"dataframe\">\n",
       "  <thead>\n",
       "    <tr style=\"text-align: right;\">\n",
       "      <th></th>\n",
       "      <th>Default</th>\n",
       "      <th>Income</th>\n",
       "      <th>ForeignSpend</th>\n",
       "      <th>Tenure</th>\n",
       "      <th>Country</th>\n",
       "      <th>CashInd</th>\n",
       "      <th>Balance</th>\n",
       "      <th>PayAge</th>\n",
       "      <th>PersCardsNo</th>\n",
       "      <th>ReturnAge</th>\n",
       "      <th>...</th>\n",
       "      <th>BizCardsNo</th>\n",
       "      <th>Inquiries</th>\n",
       "      <th>TotalPayBal</th>\n",
       "      <th>BureauScore</th>\n",
       "      <th>CourtNo</th>\n",
       "      <th>BankScore</th>\n",
       "      <th>Utilization</th>\n",
       "      <th>ExtBal</th>\n",
       "      <th>Utilization2</th>\n",
       "      <th>CustProfile</th>\n",
       "    </tr>\n",
       "    <tr>\n",
       "      <th>CustNo</th>\n",
       "      <th></th>\n",
       "      <th></th>\n",
       "      <th></th>\n",
       "      <th></th>\n",
       "      <th></th>\n",
       "      <th></th>\n",
       "      <th></th>\n",
       "      <th></th>\n",
       "      <th></th>\n",
       "      <th></th>\n",
       "      <th></th>\n",
       "      <th></th>\n",
       "      <th></th>\n",
       "      <th></th>\n",
       "      <th></th>\n",
       "      <th></th>\n",
       "      <th></th>\n",
       "      <th></th>\n",
       "      <th></th>\n",
       "      <th></th>\n",
       "      <th></th>\n",
       "    </tr>\n",
       "  </thead>\n",
       "  <tbody>\n",
       "    <tr>\n",
       "      <th>1</th>\n",
       "      <td>0</td>\n",
       "      <td>-0.06</td>\n",
       "      <td>-0.545</td>\n",
       "      <td>-0.853</td>\n",
       "      <td>IN</td>\n",
       "      <td>7.817</td>\n",
       "      <td>-0.252</td>\n",
       "      <td>-0.351</td>\n",
       "      <td>-0.006</td>\n",
       "      <td>0.11</td>\n",
       "      <td>...</td>\n",
       "      <td>.</td>\n",
       "      <td>0.401</td>\n",
       "      <td>-0.048</td>\n",
       "      <td>-1.298</td>\n",
       "      <td>.</td>\n",
       "      <td>-0.818</td>\n",
       "      <td>-0.367</td>\n",
       "      <td>.</td>\n",
       "      <td>.</td>\n",
       "      <td>D</td>\n",
       "    </tr>\n",
       "    <tr>\n",
       "      <th>2</th>\n",
       "      <td>0</td>\n",
       "      <td>-0.047</td>\n",
       "      <td>-0.287</td>\n",
       "      <td>-0.627</td>\n",
       "      <td>IN</td>\n",
       "      <td>-0.128</td>\n",
       "      <td>0.350</td>\n",
       "      <td>-0.590</td>\n",
       "      <td>-0.006</td>\n",
       "      <td>0.11</td>\n",
       "      <td>...</td>\n",
       "      <td>.</td>\n",
       "      <td>0.401</td>\n",
       "      <td>-0.029</td>\n",
       "      <td>-1.155</td>\n",
       "      <td>.</td>\n",
       "      <td>-0.609</td>\n",
       "      <td>-0.367</td>\n",
       "      <td>-0.244</td>\n",
       "      <td>.</td>\n",
       "      <td>G</td>\n",
       "    </tr>\n",
       "    <tr>\n",
       "      <th>3</th>\n",
       "      <td>0</td>\n",
       "      <td>-0.03</td>\n",
       "      <td>-0.373</td>\n",
       "      <td>-0.643</td>\n",
       "      <td>IN</td>\n",
       "      <td>-0.128</td>\n",
       "      <td>0.599</td>\n",
       "      <td>2.274</td>\n",
       "      <td>-0.006</td>\n",
       "      <td>0.11</td>\n",
       "      <td>...</td>\n",
       "      <td>.</td>\n",
       "      <td>-0.580</td>\n",
       "      <td>-0.048</td>\n",
       "      <td>0.558</td>\n",
       "      <td>.</td>\n",
       "      <td>1.049</td>\n",
       "      <td>-0.367</td>\n",
       "      <td>-0.015</td>\n",
       "      <td>-1.141</td>\n",
       "      <td>E</td>\n",
       "    </tr>\n",
       "    <tr>\n",
       "      <th>4</th>\n",
       "      <td>0</td>\n",
       "      <td>-0.033</td>\n",
       "      <td>2.589</td>\n",
       "      <td>-0.934</td>\n",
       "      <td>IN</td>\n",
       "      <td>-0.128</td>\n",
       "      <td>-0.032</td>\n",
       "      <td>-0.232</td>\n",
       "      <td>-0.006</td>\n",
       "      <td>0.11</td>\n",
       "      <td>...</td>\n",
       "      <td>.</td>\n",
       "      <td>0.401</td>\n",
       "      <td>-0.048</td>\n",
       "      <td>0.375</td>\n",
       "      <td>.</td>\n",
       "      <td>-0.294</td>\n",
       "      <td>-0.367</td>\n",
       "      <td>.</td>\n",
       "      <td>.</td>\n",
       "      <td>D</td>\n",
       "    </tr>\n",
       "    <tr>\n",
       "      <th>5</th>\n",
       "      <td>0</td>\n",
       "      <td>-0.031</td>\n",
       "      <td>-0.545</td>\n",
       "      <td>0.069</td>\n",
       "      <td>IN</td>\n",
       "      <td>-0.128</td>\n",
       "      <td>-0.287</td>\n",
       "      <td>1.200</td>\n",
       "      <td>-0.006</td>\n",
       "      <td>0.11</td>\n",
       "      <td>...</td>\n",
       "      <td>.</td>\n",
       "      <td>1.381</td>\n",
       "      <td>-0.048</td>\n",
       "      <td>-1.56</td>\n",
       "      <td>.</td>\n",
       "      <td>0.264</td>\n",
       "      <td>-0.367</td>\n",
       "      <td>-0.16</td>\n",
       "      <td>-1.025</td>\n",
       "      <td>G</td>\n",
       "    </tr>\n",
       "  </tbody>\n",
       "</table>\n",
       "<p>5 rows × 22 columns</p>\n",
       "</div>"
      ],
      "text/plain": [
       "        Default  Income  ForeignSpend  Tenure Country  CashInd  Balance  \\\n",
       "CustNo                                                                    \n",
       "1             0   -0.06        -0.545  -0.853      IN    7.817   -0.252   \n",
       "2             0  -0.047        -0.287  -0.627      IN   -0.128    0.350   \n",
       "3             0   -0.03        -0.373  -0.643      IN   -0.128    0.599   \n",
       "4             0  -0.033         2.589  -0.934      IN   -0.128   -0.032   \n",
       "5             0  -0.031        -0.545   0.069      IN   -0.128   -0.287   \n",
       "\n",
       "        PayAge PersCardsNo  ReturnAge     ...     BizCardsNo  Inquiries  \\\n",
       "CustNo                                    ...                             \n",
       "1       -0.351      -0.006       0.11     ...              .      0.401   \n",
       "2       -0.590      -0.006       0.11     ...              .      0.401   \n",
       "3        2.274      -0.006       0.11     ...              .     -0.580   \n",
       "4       -0.232      -0.006       0.11     ...              .      0.401   \n",
       "5        1.200      -0.006       0.11     ...              .      1.381   \n",
       "\n",
       "       TotalPayBal  BureauScore  CourtNo BankScore Utilization  ExtBal  \\\n",
       "CustNo                                                                   \n",
       "1           -0.048       -1.298        .    -0.818      -0.367       .   \n",
       "2           -0.029       -1.155        .    -0.609      -0.367  -0.244   \n",
       "3           -0.048        0.558        .     1.049      -0.367  -0.015   \n",
       "4           -0.048        0.375        .    -0.294      -0.367       .   \n",
       "5           -0.048        -1.56        .     0.264      -0.367   -0.16   \n",
       "\n",
       "       Utilization2 CustProfile  \n",
       "CustNo                           \n",
       "1                 .           D  \n",
       "2                 .           G  \n",
       "3            -1.141           E  \n",
       "4                 .           D  \n",
       "5            -1.025           G  \n",
       "\n",
       "[5 rows x 22 columns]"
      ]
     },
     "execution_count": 5,
     "metadata": {},
     "output_type": "execute_result"
    }
   ],
   "source": [
    "# Importing train file\n",
    "train_credit_data = pd.read_csv('C:/Users/rushi/Desktop/DataScience/Problems/Niagara Credit Card Problem/Data/train.csv',index_col='CustNo')\n",
    "train_credit_data.head()"
   ]
  },
  {
   "cell_type": "code",
   "execution_count": 6,
   "metadata": {},
   "outputs": [
    {
     "name": "stdout",
     "output_type": "stream",
     "text": [
      "<class 'pandas.core.frame.DataFrame'>\n",
      "Int64Index: 50000 entries, 1 to 50000\n",
      "Data columns (total 22 columns):\n",
      "Default         50000 non-null int64\n",
      "Income          50000 non-null object\n",
      "ForeignSpend    50000 non-null float64\n",
      "Tenure          50000 non-null float64\n",
      "Country         50000 non-null object\n",
      "CashInd         50000 non-null float64\n",
      "Balance         50000 non-null float64\n",
      "PayAge          50000 non-null float64\n",
      "PersCardsNo     50000 non-null object\n",
      "ReturnAge       50000 non-null float64\n",
      "AcqRisk         50000 non-null object\n",
      "RiskyInd        50000 non-null float64\n",
      "BizCardsNo      50000 non-null object\n",
      "Inquiries       50000 non-null float64\n",
      "TotalPayBal     50000 non-null float64\n",
      "BureauScore     50000 non-null object\n",
      "CourtNo         50000 non-null object\n",
      "BankScore       50000 non-null object\n",
      "Utilization     50000 non-null object\n",
      "ExtBal          50000 non-null object\n",
      "Utilization2    50000 non-null object\n",
      "CustProfile     50000 non-null object\n",
      "dtypes: float64(9), int64(1), object(12)\n",
      "memory usage: 8.8+ MB\n"
     ]
    }
   ],
   "source": [
    "train_credit_data.info()"
   ]
  },
  {
   "cell_type": "code",
   "execution_count": 23,
   "metadata": {},
   "outputs": [
    {
     "name": "stdout",
     "output_type": "stream",
     "text": [
      "Index(['Default', 'ForeignSpend', 'Tenure', 'CashInd', 'Balance', 'PayAge',\n",
      "       'ReturnAge', 'RiskyInd', 'Inquiries', 'TotalPayBal'],\n",
      "      dtype='object')\n",
      "['Income', 'Country', 'PersCardsNo', 'AcqRisk', 'BizCardsNo', 'BureauScore', 'CourtNo', 'BankScore', 'Utilization', 'ExtBal', 'Utilization2', 'CustProfile']\n",
      "['Income', 'PersCardsNo', 'AcqRisk', 'BizCardsNo', 'BureauScore', 'CourtNo', 'BankScore', 'Utilization', 'ExtBal', 'Utilization2']\n"
     ]
    }
   ],
   "source": [
    "numeric_cols = train_credit_data.select_dtypes(include=[np.number]).columns\n",
    "print(numeric_cols)\n",
    "categorical_cols = list(train_credit_data.select_dtypes(exclude=[np.number]).columns)\n",
    "print(categorical_cols)\n",
    "categorical_cols.remove('Country')\n",
    "categorical_cols.remove('CustProfile')\n",
    "print(categorical_cols)"
   ]
  },
  {
   "cell_type": "code",
   "execution_count": 27,
   "metadata": {},
   "outputs": [],
   "source": [
    "train_credit_data[categorical_cols] = train_credit_data[categorical_cols].apply(pd.to_numeric,errors='coerce')"
   ]
  },
  {
   "cell_type": "code",
   "execution_count": 28,
   "metadata": {},
   "outputs": [
    {
     "name": "stdout",
     "output_type": "stream",
     "text": [
      "<class 'pandas.core.frame.DataFrame'>\n",
      "Int64Index: 50000 entries, 1 to 50000\n",
      "Data columns (total 22 columns):\n",
      "Default         50000 non-null int64\n",
      "Income          44420 non-null float64\n",
      "ForeignSpend    50000 non-null float64\n",
      "Tenure          50000 non-null float64\n",
      "Country         50000 non-null object\n",
      "CashInd         50000 non-null float64\n",
      "Balance         50000 non-null float64\n",
      "PayAge          50000 non-null float64\n",
      "PersCardsNo     49522 non-null float64\n",
      "ReturnAge       50000 non-null float64\n",
      "AcqRisk         24103 non-null float64\n",
      "RiskyInd        50000 non-null float64\n",
      "BizCardsNo      2226 non-null float64\n",
      "Inquiries       50000 non-null float64\n",
      "TotalPayBal     50000 non-null float64\n",
      "BureauScore     49124 non-null float64\n",
      "CourtNo         2685 non-null float64\n",
      "BankScore       48331 non-null float64\n",
      "Utilization     49308 non-null float64\n",
      "ExtBal          37008 non-null float64\n",
      "Utilization2    13778 non-null float64\n",
      "CustProfile     50000 non-null object\n",
      "dtypes: float64(19), int64(1), object(2)\n",
      "memory usage: 10.0+ MB\n"
     ]
    }
   ],
   "source": [
    "train_credit_data.info()"
   ]
  },
  {
   "cell_type": "code",
   "execution_count": 37,
   "metadata": {},
   "outputs": [
    {
     "data": {
      "text/plain": [
       "BizCardsNo      0.95548\n",
       "CourtNo         0.94630\n",
       "Utilization2    0.72444\n",
       "AcqRisk         0.51794\n",
       "ExtBal          0.25984\n",
       "Income          0.11160\n",
       "BankScore       0.03338\n",
       "BureauScore     0.01752\n",
       "Utilization     0.01384\n",
       "PersCardsNo     0.00956\n",
       "Balance         0.00000\n",
       "ForeignSpend    0.00000\n",
       "Tenure          0.00000\n",
       "Country         0.00000\n",
       "CashInd         0.00000\n",
       "CustProfile     0.00000\n",
       "PayAge          0.00000\n",
       "ReturnAge       0.00000\n",
       "RiskyInd        0.00000\n",
       "Inquiries       0.00000\n",
       "TotalPayBal     0.00000\n",
       "Default         0.00000\n",
       "dtype: float64"
      ]
     },
     "execution_count": 37,
     "metadata": {},
     "output_type": "execute_result"
    }
   ],
   "source": [
    "train_credit_data.isnull().sum(axis=0).sort_values(ascending=False) / train_credit_data.index.size"
   ]
  },
  {
   "cell_type": "code",
   "execution_count": 47,
   "metadata": {},
   "outputs": [
    {
     "data": {
      "text/plain": [
       "array([    nan,  -1.245,   0.58 ,   2.405,   6.054,   4.229,  11.528])"
      ]
     },
     "execution_count": 47,
     "metadata": {},
     "output_type": "execute_result"
    }
   ],
   "source": [
    "train_credit_data['BizCardsNo'].unique()"
   ]
  },
  {
   "cell_type": "code",
   "execution_count": 48,
   "metadata": {
    "collapsed": true
   },
   "outputs": [],
   "source": [
    "notNullBizCardData = train_credit_data[~train_credit_data['BizCardsNo'].isnull() ]"
   ]
  },
  {
   "cell_type": "code",
   "execution_count": 49,
   "metadata": {},
   "outputs": [
    {
     "data": {
      "image/png": "[encoded data removed]",
      "text/plain": [
       "<matplotlib.figure.Figure at 0xd3a9f28>"
      ]
     },
     "metadata": {},
     "output_type": "display_data"
    }
   ],
   "source": [
    "ax = sns.countplot( notNullBizCardData[notNullBizCardData['Default'] == 1]['BizCardsNo'].fillna(0))\n",
    "plt.show()"
   ]
  },
  {
   "cell_type": "code",
   "execution_count": 50,
   "metadata": {},
   "outputs": [
    {
     "data": {
      "image/png": "[encoded data removed]",
      "text/plain": [
       "<matplotlib.figure.Figure at 0xbd74cc0>"
      ]
     },
     "metadata": {},
     "output_type": "display_data"
    }
   ],
   "source": [
    "ax = sns.countplot( notNullBizCardData[notNullBizCardData['Default'] == 0]['BizCardsNo'].fillna(0))\n",
    "plt.show()"
   ]
  },
  {
   "cell_type": "code",
   "execution_count": 51,
   "metadata": {
    "collapsed": true
   },
   "outputs": [],
   "source": [
    "notNullCourtNo = train_credit_data[~train_credit_data['CourtNo'].isnull() ]"
   ]
  },
  {
   "cell_type": "code",
   "execution_count": 67,
   "metadata": {},
   "outputs": [
    {
     "data": {
      "image/png": "[encoded data removed]",
      "text/plain": [
       "<matplotlib.figure.Figure at 0xb8c6eb8>"
      ]
     },
     "metadata": {},
     "output_type": "display_data"
    }
   ],
   "source": [
    "percentage = lambda i: len(i) / float(len(x)) * 100\n",
    "ax = sns.countplot(x= 'CourtNo',data = notNullCourtNo[notNullCourtNo['Default'] == 1])\n",
    "plt.show()"
   ]
  },
  {
   "cell_type": "code",
   "execution_count": 53,
   "metadata": {},
   "outputs": [
    {
     "data": {
      "image/png": "[encoded data removed]",
      "text/plain": [
       "<matplotlib.figure.Figure at 0x10df6160>"
      ]
     },
     "metadata": {},
     "output_type": "display_data"
    }
   ],
   "source": [
    "ax = sns.countplot( notNullCourtNo[notNullCourtNo['Default'] == 0]['CourtNo'].fillna(0))\n",
    "plt.show()"
   ]
  },
  {
   "cell_type": "code",
   "execution_count": 69,
   "metadata": {
    "collapsed": true
   },
   "outputs": [],
   "source": [
    "notNullUtilization2 = train_credit_data[~train_credit_data['Utilization2'].isnull() ]"
   ]
  },
  {
   "cell_type": "code",
   "execution_count": 73,
   "metadata": {},
   "outputs": [
    {
     "data": {
      "image/png": "[encoded data removed]",
      "text/plain": [
       "<matplotlib.figure.Figure at 0x1272e278>"
      ]
     },
     "metadata": {},
     "output_type": "display_data"
    }
   ],
   "source": [
    "plt.figure(figsize=(20,16))\n",
    "ax = sns.boxplot(y = notNullUtilization2.Utilization2,x=notNullUtilization2.Default)\n",
    "plt.show()"
   ]
  },
  {
   "cell_type": "code",
   "execution_count": 74,
   "metadata": {},
   "outputs": [
    {
     "data": {
      "image/png": "[encoded data removed]",
      "text/plain": [
       "<matplotlib.figure.Figure at 0x126cba90>"
      ]
     },
     "metadata": {},
     "output_type": "display_data"
    }
   ],
   "source": [
    "notNullAcqRisk = train_credit_data[~train_credit_data['AcqRisk'].isnull() ]\n",
    "plt.figure(figsize=(20,16))\n",
    "ax = sns.boxplot(y = notNullAcqRisk.AcqRisk,x=notNullAcqRisk.Default)\n",
    "plt.show()"
   ]
  },
  {
   "cell_type": "code",
   "execution_count": 75,
   "metadata": {},
   "outputs": [
    {
     "data": {
      "image/png": "[encoded data removed]",
      "text/plain": [
       "<matplotlib.figure.Figure at 0x12698470>"
      ]
     },
     "metadata": {},
     "output_type": "display_data"
    }
   ],
   "source": [
    "notNullExtBal = train_credit_data[~train_credit_data['ExtBal'].isnull() ]\n",
    "plt.figure(figsize=(16,12))\n",
    "ax = sns.boxplot(y = notNullExtBal.AcqRisk,x=notNullExtBal.Default)\n",
    "plt.show()"
   ]
  },
  {
   "cell_type": "code",
   "execution_count": 76,
   "metadata": {},
   "outputs": [
    {
     "data": {
      "image/png": "[encoded data removed]",
      "text/plain": [
       "<matplotlib.figure.Figure at 0x12673908>"
      ]
     },
     "metadata": {},
     "output_type": "display_data"
    }
   ],
   "source": [
    "notNullExtBal = train_credit_data[~train_credit_data['Income'].isnull() ]\n",
    "plt.figure(figsize=(16,12))\n",
    "ax = sns.boxplot(y = notNullExtBal.AcqRisk,x=notNullExtBal.Default)\n",
    "plt.show()"
   ]
  },
  {
   "cell_type": "code",
   "execution_count": null,
   "metadata": {
    "collapsed": true
   },
   "outputs": [],
   "source": []
  },
  {
   "cell_type": "code",
   "execution_count": null,
   "metadata": {
    "collapsed": true
   },
   "outputs": [],
   "source": []
  },
  {
   "cell_type": "code",
   "execution_count": null,
   "metadata": {
    "collapsed": true
   },
   "outputs": [],
   "source": []
  }
 ],
 "metadata": {
  "kernelspec": {
   "display_name": "Python 3",
   "language": "python",
   "name": "python3"
  },
  "language_info": {
   "codemirror_mode": {
    "name": "ipython",
    "version": 3
   },
   "file_extension": ".py",
   "mimetype": "text/x-python",
   "name": "python",
   "nbconvert_exporter": "python",
   "pygments_lexer": "ipython3",
   "version": "3.6.2"
  }
 },
 "nbformat": 4,
 "nbformat_minor": 2
}
